{
  "cells": [
    {
      "cell_type": "markdown",
      "metadata": {
        "id": "view-in-github",
        "colab_type": "text"
      },
      "source": [
        "<a href=\"https://colab.research.google.com/github/HamsaGV/Spatial-Computing/blob/main/checkpoint.ipynb\" target=\"_parent\"><img src=\"https://colab.research.google.com/assets/colab-badge.svg\" alt=\"Open In Colab\"/></a>"
      ]
    },
    {
      "cell_type": "code",
      "execution_count": null,
      "metadata": {
        "id": "OCyjWPzfZkDs"
      },
      "outputs": [],
      "source": [
        "#In this notebook we are calculating the different Model Accuracy"
      ]
    },
    {
      "cell_type": "markdown",
      "metadata": {
        "id": "maRwlmbKZkD5"
      },
      "source": [
        "#We are Calculating the Model Accuracy"
      ]
    },
    {
      "cell_type": "code",
      "execution_count": null,
      "metadata": {
        "id": "saXAOYcuZkD_"
      },
      "outputs": [],
      "source": [
        "import pandas as pd\n",
        "from sklearn.ensemble import RandomForestRegressor\n",
        "from sklearn.model_selection import train_test_split\n",
        "from sklearn.metrics import mean_squared_error as err\n",
        "from sklearn.ensemble import GradientBoostingRegressor\n",
        "from sklearn.linear_model import LinearRegression\n",
        "from sklearn.neighbors import KNeighborsRegressor\n",
        "\n",
        "import numpy as np\n",
        "import matplotlib.pyplot as plt\n",
        "%matplotlib inline"
      ]
    },
    {
      "cell_type": "code",
      "execution_count": null,
      "metadata": {
        "id": "C2R1A8AcZkEC"
      },
      "outputs": [],
      "source": [
        "from sklearn.model_selection import cross_val_score\n",
        "cv_k = 5\n",
        "cv_scoring = 'neg_mean_squared_error'\n",
        "cv_scoring = 'r2'"
      ]
    },
    {
      "cell_type": "markdown",
      "metadata": {
        "id": "gJjvfvAgZkEE"
      },
      "source": [
        "Reading and concatenating the 2013 and 2014 data to form 1 dataset"
      ]
    },
    {
      "cell_type": "code",
      "execution_count": null,
      "metadata": {
        "id": "lp74LfuCZkEG"
      },
      "outputs": [],
      "source": [
        "DS1 = pd.read_csv(\"/Users/riggy/Coding/CropPredict/first/file1.csv\")\n",
        "DS2 = pd.read_csv(\"/Users/riggy/Coding/CropPredict/first/file2.csv\")\n",
        "total_data = pd.concat([DS1, DS2],axis=0)"
      ]
    },
    {
      "cell_type": "code",
      "execution_count": null,
      "metadata": {
        "id": "ZQJlxRk0ZkEJ"
      },
      "outputs": [],
      "source": [
        "#Calculating the dataset values and checkign if there's been any lose"
      ]
    },
    {
      "cell_type": "code",
      "execution_count": null,
      "metadata": {
        "id": "DUBBLPq1ZkEM",
        "outputId": "bedb75ca-a159-497f-c924-6feccec22391"
      },
      "outputs": [
        {
          "name": "stdout",
          "output_type": "stream",
          "text": [
            "(177493, 26)\n",
            "(360042, 26)\n"
          ]
        }
      ],
      "source": [
        "print(DS1.shape)\n",
        "print(total_data.shape)"
      ]
    },
    {
      "cell_type": "code",
      "execution_count": null,
      "metadata": {
        "id": "1W0HtoZ0ZkEQ"
      },
      "outputs": [],
      "source": [
        "#We are removing the location based data because the yield for a particular location is always the same"
      ]
    },
    {
      "cell_type": "code",
      "execution_count": null,
      "metadata": {
        "id": "E9PNVGv5ZkET"
      },
      "outputs": [],
      "source": [
        "# First rounding the latitude and longitude\n",
        "DS1[['Latitude','Longitude']] = data_2013[['Latitude','Longitude']].round(6)\n",
        "DS2[['Latitude','Longitude']] = data_2014[['Latitude','Longitude']].round(6)"
      ]
    },
    {
      "cell_type": "code",
      "execution_count": null,
      "metadata": {
        "id": "TidTbDtKZkEU",
        "outputId": "56e6e691-36ac-48ce-82ed-bbed66b78fe0"
      },
      "outputs": [
        {
          "data": {
            "text/html": [
              "<div>\n",
              "<style scoped>\n",
              "    .dataframe tbody tr th:only-of-type {\n",
              "        vertical-align: middle;\n",
              "    }\n",
              "\n",
              "    .dataframe tbody tr th {\n",
              "        vertical-align: top;\n",
              "    }\n",
              "\n",
              "    .dataframe thead th {\n",
              "        text-align: right;\n",
              "    }\n",
              "</style>\n",
              "<table border=\"1\" class=\"dataframe\">\n",
              "  <thead>\n",
              "    <tr style=\"text-align: right;\">\n",
              "      <th></th>\n",
              "      <th>index</th>\n",
              "      <th>Latitude</th>\n",
              "      <th>Longitude</th>\n",
              "    </tr>\n",
              "  </thead>\n",
              "  <tbody>\n",
              "    <tr>\n",
              "      <th>0</th>\n",
              "      <td>0</td>\n",
              "      <td>46.811686</td>\n",
              "      <td>-118.695237</td>\n",
              "    </tr>\n",
              "    <tr>\n",
              "      <th>1</th>\n",
              "      <td>1</td>\n",
              "      <td>46.929839</td>\n",
              "      <td>-118.352109</td>\n",
              "    </tr>\n",
              "    <tr>\n",
              "      <th>2</th>\n",
              "      <td>2</td>\n",
              "      <td>47.006888</td>\n",
              "      <td>-118.510160</td>\n",
              "    </tr>\n",
              "    <tr>\n",
              "      <th>3</th>\n",
              "      <td>3</td>\n",
              "      <td>47.162342</td>\n",
              "      <td>-118.699677</td>\n",
              "    </tr>\n",
              "    <tr>\n",
              "      <th>4</th>\n",
              "      <td>4</td>\n",
              "      <td>47.157512</td>\n",
              "      <td>-118.434056</td>\n",
              "    </tr>\n",
              "  </tbody>\n",
              "</table>\n",
              "</div>"
            ],
            "text/plain": [
              "   index   Latitude   Longitude\n",
              "0      0  46.811686 -118.695237\n",
              "1      1  46.929839 -118.352109\n",
              "2      2  47.006888 -118.510160\n",
              "3      3  47.162342 -118.699677\n",
              "4      4  47.157512 -118.434056"
            ]
          },
          "execution_count": 134,
          "metadata": {},
          "output_type": "execute_result"
        }
      ],
      "source": [
        "long_lat_1 = DS1.drop_duplicates(['Latitude','Longitude']).iloc[:,2:4]\n",
        "long_lat_1 = long_lat_1.reset_index(inplace=False)\n",
        "long_lat_1.head()"
      ]
    },
    {
      "cell_type": "code",
      "execution_count": null,
      "metadata": {
        "scrolled": true,
        "id": "SJw2ea3zZkEW",
        "outputId": "56e47b65-fe38-4d0f-e57a-80628a9844d0"
      },
      "outputs": [
        {
          "name": "stdout",
          "output_type": "stream",
          "text": [
            "Number of coordinates with more than 1 yield value: 0.0000 \n",
            "Total number of coordinates: 1014.0000\n"
          ]
        }
      ],
      "source": [
        "yield_list = []\n",
        "num_diff_yield = []\n",
        "for i in range(0, len(long_lat_1)):\n",
        "        yield_list.append(data_2013[(DS1.Latitude == long_lat_1.Latitude[i]) &\n",
        "                                    (DS1.Longitude == long_lat_1.Longitude[i])].Yield.unique())\n",
        "        num_diff_yield.append(len(data_2013[(DS1.Latitude == long_lat_1.Latitude[i]) &\n",
        "                                            (DS1.Longitude == long_lat_1.Longitude[i])].Yield.unique()))\n",
        "\n",
        "df1 = pd.DataFrame({'Location' : list(zip(long_lat_1.Latitude, long_lat_1.Longitude)), \n",
        "                   'Unique_Yields' : yield_list, 'Number_yield': num_diff_yield}, \n",
        "                  columns= ['Location','Unique_Yields', 'Number_yield'])\n",
        "\n",
        "print(\"Number of coordinates with more than 1 yield value: %.4f \" % len(df1[df1.Number_yield > 1]))\n",
        "print(\"Total number of coordinates: %.4f\" %len(df1))\n"
      ]
    },
    {
      "cell_type": "code",
      "execution_count": null,
      "metadata": {
        "id": "BXfiH0GPZkEZ",
        "outputId": "4914e7db-da6f-43c0-d1bc-47f5bc1eb178"
      },
      "outputs": [
        {
          "name": "stdout",
          "output_type": "stream",
          "text": [
            "Number of counties with more than 1 yield value: 19.0000 \n",
            "Total number of counties: 150.0000\n",
            "       County Unique_Yields  Number_yield\n",
            "0       Adams        [35.7]             1\n",
            "1     Alfalfa        [14.4]             1\n",
            "2       Allen        [46.5]             1\n",
            "3    Anderson        [45.6]             1\n",
            "4      Archer        [13.1]             1\n",
            "5   Armstrong        [13.8]             1\n",
            "6      Asotin        [52.4]             1\n",
            "7    Atchison        [52.9]             1\n",
            "8      Bailey        [21.4]             1\n",
            "9      Barber        [13.3]             1\n",
            "10     Barton        [27.6]             1\n",
            "11     Baylor        [16.5]             1\n",
            "12     Beaver        [14.6]             1\n",
            "13    Beckham        [14.2]             1\n",
            "14       Bell        [52.2]             1\n",
            "15      Bexar        [31.5]             1\n",
            "16   Big Horn        [52.4]             1\n",
            "17     Blaine  [38.4, 18.1]             2\n",
            "18     Bosque        [27.1]             1\n",
            "19    Bourbon        [47.4]             1\n"
          ]
        }
      ],
      "source": [
        "#Now we will work with distinct county's, As different state have the same county's\n",
        "countynames= DS1.CountyName.unique()\n",
        "# creating unique yields for each county\n",
        "Yield_list = []\n",
        "Num_diff_yields = []\n",
        "for county in countynames:\n",
        "    Yield_list.append(DS1[DS1.CountyName == county].Yield.unique())\n",
        "    Num_diff_yields.append(len(DS1[DS1.CountyName == county].Yield.unique()))\n",
        "df = pd.DataFrame({'County' : countynames, 'Unique_Yields' : Yield_list, 'Number_yield': Num_diff_yields}, \n",
        "                  columns= ['County','Unique_Yields', 'Number_yield'])\n",
        "\n",
        "print(\"Number of counties with more than 1 yield value: %.4f \" % len(df[df.Number_yield > 1]))\n",
        "print(\"Total number of counties: %.4f\" %len(df))\n",
        "print(df.head(20))"
      ]
    },
    {
      "cell_type": "code",
      "execution_count": null,
      "metadata": {
        "id": "gMrXjQDHZkEb"
      },
      "outputs": [],
      "source": [
        "total_data101 = total_data.drop(['CountyName','State','Latitude','Longitude','Date'],axis=1)"
      ]
    },
    {
      "cell_type": "code",
      "execution_count": null,
      "metadata": {
        "id": "_yvLjMSwZkEd"
      },
      "outputs": [],
      "source": [
        "total_data102 = total_data101.dropna(axis = 0)"
      ]
    },
    {
      "cell_type": "markdown",
      "metadata": {
        "id": "5G6nLF4ZZkEd"
      },
      "source": [
        "Separating the Feature space and target value"
      ]
    },
    {
      "cell_type": "code",
      "execution_count": null,
      "metadata": {
        "id": "2KU9MJNoZkEe"
      },
      "outputs": [],
      "source": [
        "# We are not working towards spliting the dataset into test and train"
      ]
    },
    {
      "cell_type": "code",
      "execution_count": null,
      "metadata": {
        "id": "WuctovHvZkEf"
      },
      "outputs": [],
      "source": [
        "cols = list(total_data102.columns)\n",
        "cols.remove('Yield')"
      ]
    },
    {
      "cell_type": "markdown",
      "metadata": {
        "id": "zIqRcDZsZkEg"
      },
      "source": [
        "#### Creating a Train and Test split from the data"
      ]
    },
    {
      "cell_type": "code",
      "execution_count": null,
      "metadata": {
        "id": "X72kcJWCZkEh"
      },
      "outputs": [],
      "source": [
        "train_split, test_split = train_test_split(total_data102, test_size = 0.3)"
      ]
    },
    {
      "cell_type": "markdown",
      "metadata": {
        "id": "nIBfXeKCZkEi"
      },
      "source": [
        "------------------------------------------------------------------------------"
      ]
    },
    {
      "cell_type": "code",
      "execution_count": null,
      "metadata": {
        "id": "oDl1sYh_ZkEj"
      },
      "outputs": [],
      "source": [
        "#Model : Random Forest Regressor"
      ]
    },
    {
      "cell_type": "code",
      "execution_count": null,
      "metadata": {
        "id": "LwAEYfQLZkEj"
      },
      "outputs": [],
      "source": [
        "# instantiating the model\n",
        "randomforest_model = RandomForestRegressor(n_estimators=50)"
      ]
    },
    {
      "cell_type": "code",
      "execution_count": null,
      "metadata": {
        "id": "Cdr-oYpIZkEl"
      },
      "outputs": [],
      "source": [
        "#n_estimators': The number of trees in the forest As the number of trees increases the complexity, \n",
        "#time taken to run the model increases but the errors decreases. \n",
        "#But with higher number of trees the model can overfit. T\n",
        "#herefore the number of trees should be optimal i.e to maintain balance between reduced error and overfitting."
      ]
    },
    {
      "cell_type": "code",
      "execution_count": null,
      "metadata": {
        "id": "x0YVQjCiZkEm",
        "outputId": "ac438d61-7201-4f55-8c89-3bfc33247bd1"
      },
      "outputs": [
        {
          "data": {
            "text/html": [
              "<style>#sk-container-id-10 {color: black;background-color: white;}#sk-container-id-10 pre{padding: 0;}#sk-container-id-10 div.sk-toggleable {background-color: white;}#sk-container-id-10 label.sk-toggleable__label {cursor: pointer;display: block;width: 100%;margin-bottom: 0;padding: 0.3em;box-sizing: border-box;text-align: center;}#sk-container-id-10 label.sk-toggleable__label-arrow:before {content: \"▸\";float: left;margin-right: 0.25em;color: #696969;}#sk-container-id-10 label.sk-toggleable__label-arrow:hover:before {color: black;}#sk-container-id-10 div.sk-estimator:hover label.sk-toggleable__label-arrow:before {color: black;}#sk-container-id-10 div.sk-toggleable__content {max-height: 0;max-width: 0;overflow: hidden;text-align: left;background-color: #f0f8ff;}#sk-container-id-10 div.sk-toggleable__content pre {margin: 0.2em;color: black;border-radius: 0.25em;background-color: #f0f8ff;}#sk-container-id-10 input.sk-toggleable__control:checked~div.sk-toggleable__content {max-height: 200px;max-width: 100%;overflow: auto;}#sk-container-id-10 input.sk-toggleable__control:checked~label.sk-toggleable__label-arrow:before {content: \"▾\";}#sk-container-id-10 div.sk-estimator input.sk-toggleable__control:checked~label.sk-toggleable__label {background-color: #d4ebff;}#sk-container-id-10 div.sk-label input.sk-toggleable__control:checked~label.sk-toggleable__label {background-color: #d4ebff;}#sk-container-id-10 input.sk-hidden--visually {border: 0;clip: rect(1px 1px 1px 1px);clip: rect(1px, 1px, 1px, 1px);height: 1px;margin: -1px;overflow: hidden;padding: 0;position: absolute;width: 1px;}#sk-container-id-10 div.sk-estimator {font-family: monospace;background-color: #f0f8ff;border: 1px dotted black;border-radius: 0.25em;box-sizing: border-box;margin-bottom: 0.5em;}#sk-container-id-10 div.sk-estimator:hover {background-color: #d4ebff;}#sk-container-id-10 div.sk-parallel-item::after {content: \"\";width: 100%;border-bottom: 1px solid gray;flex-grow: 1;}#sk-container-id-10 div.sk-label:hover label.sk-toggleable__label {background-color: #d4ebff;}#sk-container-id-10 div.sk-serial::before {content: \"\";position: absolute;border-left: 1px solid gray;box-sizing: border-box;top: 0;bottom: 0;left: 50%;z-index: 0;}#sk-container-id-10 div.sk-serial {display: flex;flex-direction: column;align-items: center;background-color: white;padding-right: 0.2em;padding-left: 0.2em;position: relative;}#sk-container-id-10 div.sk-item {position: relative;z-index: 1;}#sk-container-id-10 div.sk-parallel {display: flex;align-items: stretch;justify-content: center;background-color: white;position: relative;}#sk-container-id-10 div.sk-item::before, #sk-container-id-10 div.sk-parallel-item::before {content: \"\";position: absolute;border-left: 1px solid gray;box-sizing: border-box;top: 0;bottom: 0;left: 50%;z-index: -1;}#sk-container-id-10 div.sk-parallel-item {display: flex;flex-direction: column;z-index: 1;position: relative;background-color: white;}#sk-container-id-10 div.sk-parallel-item:first-child::after {align-self: flex-end;width: 50%;}#sk-container-id-10 div.sk-parallel-item:last-child::after {align-self: flex-start;width: 50%;}#sk-container-id-10 div.sk-parallel-item:only-child::after {width: 0;}#sk-container-id-10 div.sk-dashed-wrapped {border: 1px dashed gray;margin: 0 0.4em 0.5em 0.4em;box-sizing: border-box;padding-bottom: 0.4em;background-color: white;}#sk-container-id-10 div.sk-label label {font-family: monospace;font-weight: bold;display: inline-block;line-height: 1.2em;}#sk-container-id-10 div.sk-label-container {text-align: center;}#sk-container-id-10 div.sk-container {/* jupyter's `normalize.less` sets `[hidden] { display: none; }` but bootstrap.min.css set `[hidden] { display: none !important; }` so we also need the `!important` here to be able to override the default hidden behavior on the sphinx rendered scikit-learn.org. See: https://github.com/scikit-learn/scikit-learn/issues/21755 */display: inline-block !important;position: relative;}#sk-container-id-10 div.sk-text-repr-fallback {display: none;}</style><div id=\"sk-container-id-10\" class=\"sk-top-container\"><div class=\"sk-text-repr-fallback\"><pre>RandomForestRegressor(n_estimators=50)</pre><b>In a Jupyter environment, please rerun this cell to show the HTML representation or trust the notebook. <br />On GitHub, the HTML representation is unable to render, please try loading this page with nbviewer.org.</b></div><div class=\"sk-container\" hidden><div class=\"sk-item\"><div class=\"sk-estimator sk-toggleable\"><input class=\"sk-toggleable__control sk-hidden--visually\" id=\"sk-estimator-id-10\" type=\"checkbox\" checked><label for=\"sk-estimator-id-10\" class=\"sk-toggleable__label sk-toggleable__label-arrow\">RandomForestRegressor</label><div class=\"sk-toggleable__content\"><pre>RandomForestRegressor(n_estimators=50)</pre></div></div></div></div></div>"
            ],
            "text/plain": [
              "RandomForestRegressor(n_estimators=50)"
            ]
          },
          "execution_count": 145,
          "metadata": {},
          "output_type": "execute_result"
        }
      ],
      "source": [
        "# fitting the model\n",
        "randomforest_model.fit(X=train_split.loc[:,cols],y=train_split.loc[:,'Yield'])"
      ]
    },
    {
      "cell_type": "code",
      "execution_count": null,
      "metadata": {
        "id": "V2FbDa-YZkEn"
      },
      "outputs": [],
      "source": [
        "# important features which are needed for this model\n",
        "imp101 = list(zip(cols,randomforest_model.feature_importances_))\n",
        "imp101=sorted(imp101,key=lambda x:x[1])"
      ]
    },
    {
      "cell_type": "code",
      "execution_count": null,
      "metadata": {
        "id": "mEkDdir0ZkEo",
        "outputId": "0c9741f3-3b39-4c67-be12-891c75ac0dd8"
      },
      "outputs": [
        {
          "name": "stdout",
          "output_type": "stream",
          "text": [
            "[('precipTypeIsOther', 0.0), ('precipTypeIsSnow', 0.00029340824272295403), ('precipTypeIsRain', 0.0012897371938922232), ('precipAccumulation', 0.003966645752472384), ('precipProbability', 0.007377822157558778), ('precipIntensityMax', 0.013699194447332898), ('precipIntensity', 0.01693950327919506), ('cloudCover', 0.04201483763890287), ('apparentTemperatureMax', 0.047811838200020045), ('visibility', 0.048467311046267496), ('temperatureMin', 0.050000201730736), ('apparentTemperatureMin', 0.060143628526177335), ('temperatureMax', 0.060264495892481604), ('humidity', 0.06792886521629739), ('dewPoint', 0.07757620241794401), ('windSpeed', 0.08812942659803359), ('pressure', 0.10130676114334906), ('windBearing', 0.10217946274212238), ('NDVI', 0.10463337925791398), ('DayInSeason', 0.10597727851658001)]\n"
          ]
        }
      ],
      "source": [
        "# Printing the feature importance\n",
        "print(imp101)"
      ]
    },
    {
      "cell_type": "code",
      "execution_count": null,
      "metadata": {
        "id": "Kmc56nDJZkEp",
        "outputId": "4f49489b-37c4-44e6-9b1e-f849bf75a75b"
      },
      "outputs": [
        {
          "name": "stdout",
          "output_type": "stream",
          "text": [
            "[35.66  15.354 33.808 ... 14.598 40.026 38.522]\n"
          ]
        }
      ],
      "source": [
        "prediction1 = randomforest_model.predict(test_split.loc[:,cols])\n",
        "print(prediction1)"
      ]
    },
    {
      "cell_type": "code",
      "execution_count": null,
      "metadata": {
        "id": "m4uexZCBZkEr",
        "outputId": "1efc6a5c-caa9-4613-c952-f20cf45aef54"
      },
      "outputs": [
        {
          "name": "stdout",
          "output_type": "stream",
          "text": [
            "75.756\n"
          ]
        }
      ],
      "source": [
        "randomforest_model_accuracy = randomforest_model.predict(test_split.loc[:,cols]).max()\n",
        "print(randomforest_model_accuracy)"
      ]
    },
    {
      "cell_type": "code",
      "execution_count": null,
      "metadata": {
        "id": "4M2Va11fZkEr"
      },
      "outputs": [],
      "source": [
        "#Model Evaluation Metrics"
      ]
    },
    {
      "cell_type": "markdown",
      "metadata": {
        "id": "8hrQvsuJZkEs"
      },
      "source": [
        "#### Mean Square Error"
      ]
    },
    {
      "cell_type": "code",
      "execution_count": null,
      "metadata": {
        "id": "810LvvPwZkEt",
        "outputId": "23c73f55-2ce3-42e9-f834-9d74035d0f04"
      },
      "outputs": [
        {
          "name": "stdout",
          "output_type": "stream",
          "text": [
            "MSE: 32.7517\n"
          ]
        }
      ],
      "source": [
        "error1 = err(test_split.loc[:,\"Yield\"], prediction1)\n",
        "print( \"MSE: %.4f\" % error1)"
      ]
    },
    {
      "cell_type": "markdown",
      "metadata": {
        "id": "gVfNhilVZkEu"
      },
      "source": [
        "------------------------------------------------------------------------"
      ]
    },
    {
      "cell_type": "code",
      "execution_count": null,
      "metadata": {
        "id": "K6ouCze-ZkEu"
      },
      "outputs": [],
      "source": [
        "#GrADIENT BOOSTING REGRESSOR"
      ]
    },
    {
      "cell_type": "code",
      "execution_count": null,
      "metadata": {
        "id": "QcxlSUE7ZkEv"
      },
      "outputs": [],
      "source": [
        "# Parameters\n",
        "params = {'n_estimators' :500, 'learning_rate' : 0.4, 'loss' : 'ls',\n",
        "         'max_depth' : 8}\n",
        "# instantiating the model\n",
        "XGboost_model = GradientBoostingRegressor(**params)"
      ]
    },
    {
      "cell_type": "code",
      "execution_count": null,
      "metadata": {
        "id": "Ijva1O0KZkEv"
      },
      "outputs": [],
      "source": [
        "#n_estimate: indicates the number of boosting stages to perform on the data\n",
        "#learning_rate: learning rate shrinks the contribution of each tree by learning_rate.\n",
        "#loss: it's used to find the optimal level of boosting stages\n",
        "#Max_depth: the maximum depth the nodes of the tree can reach."
      ]
    },
    {
      "cell_type": "code",
      "execution_count": null,
      "metadata": {
        "id": "_j9gYrJmZkEw",
        "outputId": "847fcd46-079c-4620-fb49-56c3ceab56ce"
      },
      "outputs": [
        {
          "name": "stderr",
          "output_type": "stream",
          "text": [
            "/opt/homebrew/lib/python3.9/site-packages/sklearn/ensemble/_gb.py:294: FutureWarning: The loss 'ls' was deprecated in v1.0 and will be removed in version 1.2. Use 'squared_error' which is equivalent.\n",
            "  warnings.warn(\n"
          ]
        },
        {
          "data": {
            "text/html": [
              "<style>#sk-container-id-11 {color: black;background-color: white;}#sk-container-id-11 pre{padding: 0;}#sk-container-id-11 div.sk-toggleable {background-color: white;}#sk-container-id-11 label.sk-toggleable__label {cursor: pointer;display: block;width: 100%;margin-bottom: 0;padding: 0.3em;box-sizing: border-box;text-align: center;}#sk-container-id-11 label.sk-toggleable__label-arrow:before {content: \"▸\";float: left;margin-right: 0.25em;color: #696969;}#sk-container-id-11 label.sk-toggleable__label-arrow:hover:before {color: black;}#sk-container-id-11 div.sk-estimator:hover label.sk-toggleable__label-arrow:before {color: black;}#sk-container-id-11 div.sk-toggleable__content {max-height: 0;max-width: 0;overflow: hidden;text-align: left;background-color: #f0f8ff;}#sk-container-id-11 div.sk-toggleable__content pre {margin: 0.2em;color: black;border-radius: 0.25em;background-color: #f0f8ff;}#sk-container-id-11 input.sk-toggleable__control:checked~div.sk-toggleable__content {max-height: 200px;max-width: 100%;overflow: auto;}#sk-container-id-11 input.sk-toggleable__control:checked~label.sk-toggleable__label-arrow:before {content: \"▾\";}#sk-container-id-11 div.sk-estimator input.sk-toggleable__control:checked~label.sk-toggleable__label {background-color: #d4ebff;}#sk-container-id-11 div.sk-label input.sk-toggleable__control:checked~label.sk-toggleable__label {background-color: #d4ebff;}#sk-container-id-11 input.sk-hidden--visually {border: 0;clip: rect(1px 1px 1px 1px);clip: rect(1px, 1px, 1px, 1px);height: 1px;margin: -1px;overflow: hidden;padding: 0;position: absolute;width: 1px;}#sk-container-id-11 div.sk-estimator {font-family: monospace;background-color: #f0f8ff;border: 1px dotted black;border-radius: 0.25em;box-sizing: border-box;margin-bottom: 0.5em;}#sk-container-id-11 div.sk-estimator:hover {background-color: #d4ebff;}#sk-container-id-11 div.sk-parallel-item::after {content: \"\";width: 100%;border-bottom: 1px solid gray;flex-grow: 1;}#sk-container-id-11 div.sk-label:hover label.sk-toggleable__label {background-color: #d4ebff;}#sk-container-id-11 div.sk-serial::before {content: \"\";position: absolute;border-left: 1px solid gray;box-sizing: border-box;top: 0;bottom: 0;left: 50%;z-index: 0;}#sk-container-id-11 div.sk-serial {display: flex;flex-direction: column;align-items: center;background-color: white;padding-right: 0.2em;padding-left: 0.2em;position: relative;}#sk-container-id-11 div.sk-item {position: relative;z-index: 1;}#sk-container-id-11 div.sk-parallel {display: flex;align-items: stretch;justify-content: center;background-color: white;position: relative;}#sk-container-id-11 div.sk-item::before, #sk-container-id-11 div.sk-parallel-item::before {content: \"\";position: absolute;border-left: 1px solid gray;box-sizing: border-box;top: 0;bottom: 0;left: 50%;z-index: -1;}#sk-container-id-11 div.sk-parallel-item {display: flex;flex-direction: column;z-index: 1;position: relative;background-color: white;}#sk-container-id-11 div.sk-parallel-item:first-child::after {align-self: flex-end;width: 50%;}#sk-container-id-11 div.sk-parallel-item:last-child::after {align-self: flex-start;width: 50%;}#sk-container-id-11 div.sk-parallel-item:only-child::after {width: 0;}#sk-container-id-11 div.sk-dashed-wrapped {border: 1px dashed gray;margin: 0 0.4em 0.5em 0.4em;box-sizing: border-box;padding-bottom: 0.4em;background-color: white;}#sk-container-id-11 div.sk-label label {font-family: monospace;font-weight: bold;display: inline-block;line-height: 1.2em;}#sk-container-id-11 div.sk-label-container {text-align: center;}#sk-container-id-11 div.sk-container {/* jupyter's `normalize.less` sets `[hidden] { display: none; }` but bootstrap.min.css set `[hidden] { display: none !important; }` so we also need the `!important` here to be able to override the default hidden behavior on the sphinx rendered scikit-learn.org. See: https://github.com/scikit-learn/scikit-learn/issues/21755 */display: inline-block !important;position: relative;}#sk-container-id-11 div.sk-text-repr-fallback {display: none;}</style><div id=\"sk-container-id-11\" class=\"sk-top-container\"><div class=\"sk-text-repr-fallback\"><pre>GradientBoostingRegressor(learning_rate=0.4, loss=&#x27;ls&#x27;, max_depth=8,\n",
              "                          n_estimators=500)</pre><b>In a Jupyter environment, please rerun this cell to show the HTML representation or trust the notebook. <br />On GitHub, the HTML representation is unable to render, please try loading this page with nbviewer.org.</b></div><div class=\"sk-container\" hidden><div class=\"sk-item\"><div class=\"sk-estimator sk-toggleable\"><input class=\"sk-toggleable__control sk-hidden--visually\" id=\"sk-estimator-id-11\" type=\"checkbox\" checked><label for=\"sk-estimator-id-11\" class=\"sk-toggleable__label sk-toggleable__label-arrow\">GradientBoostingRegressor</label><div class=\"sk-toggleable__content\"><pre>GradientBoostingRegressor(learning_rate=0.4, loss=&#x27;ls&#x27;, max_depth=8,\n",
              "                          n_estimators=500)</pre></div></div></div></div></div>"
            ],
            "text/plain": [
              "GradientBoostingRegressor(learning_rate=0.4, loss='ls', max_depth=8,\n",
              "                          n_estimators=500)"
            ]
          },
          "execution_count": 155,
          "metadata": {},
          "output_type": "execute_result"
        }
      ],
      "source": [
        "# fitting the model\n",
        "XGboost_model.fit(train_split.loc[:,cols], train_split.loc[:,\"Yield\"])"
      ]
    },
    {
      "cell_type": "markdown",
      "metadata": {
        "id": "DEPUjVptZkEx"
      },
      "source": [
        "#### Predictions using the Test set"
      ]
    },
    {
      "cell_type": "code",
      "execution_count": null,
      "metadata": {
        "id": "XB9JeSNtZkEy",
        "outputId": "0538b9bd-d28a-4419-dd50-da998359bf95"
      },
      "outputs": [
        {
          "name": "stdout",
          "output_type": "stream",
          "text": [
            "[37.79307507 15.14229722 33.58833657 ... 17.13770845 41.35348891\n",
            " 32.89341342]\n"
          ]
        }
      ],
      "source": [
        "pred2 = XGboost_model.predict(test_split.loc[:,cols])\n",
        "print(pred2)"
      ]
    },
    {
      "cell_type": "code",
      "execution_count": null,
      "metadata": {
        "id": "6kDK09NZZkEz",
        "outputId": "4a58a02a-479c-4881-825c-2ddcd685d6ff"
      },
      "outputs": [
        {
          "name": "stdout",
          "output_type": "stream",
          "text": [
            "85.92041528777258\n"
          ]
        }
      ],
      "source": [
        "XGboost_model_accuracy = XGboost_model.predict(test_split.loc[:,cols]).max()\n",
        "print(XGboost_model_accuracy)\n"
      ]
    },
    {
      "cell_type": "markdown",
      "metadata": {
        "id": "Deh7ntgHZkEz"
      },
      "source": [
        "#### Mean Squared error"
      ]
    },
    {
      "cell_type": "code",
      "execution_count": null,
      "metadata": {
        "id": "BkN3TSQ3ZkE0",
        "outputId": "8d10d514-23a2-48c9-cef0-6c81b5f7659b"
      },
      "outputs": [
        {
          "name": "stdout",
          "output_type": "stream",
          "text": [
            "MSE: 46.9774\n"
          ]
        }
      ],
      "source": [
        "error2 = err(test_split.loc[:,'Yield'], pred2)\n",
        "print( \"MSE: %.4f\" % error2)"
      ]
    },
    {
      "cell_type": "code",
      "execution_count": null,
      "metadata": {
        "id": "LA1IBrnjZkE1",
        "outputId": "c9e7b9e2-47b7-4471-896a-bac85c3fcfa6"
      },
      "outputs": [
        {
          "name": "stdout",
          "output_type": "stream",
          "text": [
            "[('precipTypeIsOther', 0.0), ('precipTypeIsSnow', 3.4827924334450164e-05), ('precipTypeIsRain', 0.0008821610200513871), ('precipAccumulation', 0.003955008750432951), ('precipProbability', 0.004264292468404647), ('precipIntensityMax', 0.01326528981831802), ('precipIntensity', 0.016452973234273947), ('cloudCover', 0.03689291833343363), ('visibility', 0.040220478479778), ('apparentTemperatureMax', 0.04310860354438723), ('temperatureMin', 0.046036236720228434), ('temperatureMax', 0.05527576237009633), ('apparentTemperatureMin', 0.056658064877668425), ('humidity', 0.0649580222543729), ('windSpeed', 0.07709225740377516), ('dewPoint', 0.08453673640505106), ('windBearing', 0.10152533226127572), ('pressure', 0.10231033565154324), ('NDVI', 0.10948425104893109), ('DayInSeason', 0.14304644743364328)]\n"
          ]
        }
      ],
      "source": [
        "# important features \n",
        "imp2 = list(zip(cols, XGboost_model.feature_importances_))\n",
        "imp2 = sorted(imp2,key=lambda x:x[1])\n",
        "print(imp2)"
      ]
    },
    {
      "cell_type": "markdown",
      "metadata": {
        "id": "K-6OZOHQZkE1"
      },
      "source": [
        "### Plotting the test and train get deviance vs the boosting iterations"
      ]
    },
    {
      "cell_type": "code",
      "execution_count": null,
      "metadata": {
        "id": "V0EjgLPxZkE2",
        "outputId": "17637dc0-0677-45cc-a34c-a60f9cb6aa21"
      },
      "outputs": [
        {
          "name": "stderr",
          "output_type": "stream",
          "text": [
            "/opt/homebrew/lib/python3.9/site-packages/sklearn/utils/deprecation.py:103: FutureWarning: Attribute `loss_` was deprecated in version 1.1 and will be removed in 1.3.\n",
            "  warnings.warn(msg, category=FutureWarning)\n"
          ]
        },
        {
          "data": {
            "text/plain": [
              "Text(0, 0.5, 'Deviance')"
            ]
          },
          "execution_count": 160,
          "metadata": {},
          "output_type": "execute_result"
        },
        {
          "data": {
            "image/png": "[encoded data removed]",
            "text/plain": [
              "<Figure size 1200x600 with 1 Axes>"
            ]
          },
          "metadata": {},
          "output_type": "display_data"
        }
      ],
      "source": [
        "# compute test set deviance\n",
        "test_score = np.zeros((params['n_estimators'],), dtype=np.float64)\n",
        "\n",
        "for i, y_pred in enumerate(XGboost_model.staged_predict(test_split.loc[:,cols])):\n",
        "    test_score[i] = XGboost_model.loss_(test_split.loc[:,\"Yield\"], y_pred)\n",
        "\n",
        "plt.figure(figsize=(12, 6))\n",
        "plt.subplot(1, 2, 1)\n",
        "plt.title('Deviance')\n",
        "plt.plot(np.arange(params['n_estimators']) + 1, XGboost_model.train_score_, 'b-',\n",
        "         label='Training Set Deviance')\n",
        "plt.plot(np.arange(params['n_estimators']) + 1, test_score, 'r-',\n",
        "         label='Test Set Deviance')\n",
        "plt.legend(loc='upper right')\n",
        "plt.xlabel('Boosting Iterations')\n",
        "plt.ylabel('Deviance')\n"
      ]
    },
    {
      "cell_type": "markdown",
      "metadata": {
        "id": "0vftPhMPZkE3"
      },
      "source": [
        "-----------------------------------------------------------------------"
      ]
    },
    {
      "cell_type": "markdown",
      "metadata": {
        "id": "oay07sguZkE3"
      },
      "source": [
        "#### Model 4: K Nearest Neighbors"
      ]
    },
    {
      "cell_type": "code",
      "execution_count": null,
      "metadata": {
        "id": "88d3gjzsZkE4"
      },
      "outputs": [],
      "source": [
        "# instantiating the model\n",
        "knn_model = KNeighborsRegressor(n_neighbors= 10)"
      ]
    },
    {
      "cell_type": "code",
      "execution_count": null,
      "metadata": {
        "id": "hbI_G2BBZkE4"
      },
      "outputs": [],
      "source": [
        "# Using the nearest neighbor as 10,as this values return the promising Accuracy"
      ]
    },
    {
      "cell_type": "code",
      "execution_count": null,
      "metadata": {
        "id": "lmjSx1VeZkE5",
        "outputId": "6bf5708f-1e13-4e50-b318-f6af6be15565"
      },
      "outputs": [
        {
          "data": {
            "text/html": [
              "<style>#sk-container-id-12 {color: black;background-color: white;}#sk-container-id-12 pre{padding: 0;}#sk-container-id-12 div.sk-toggleable {background-color: white;}#sk-container-id-12 label.sk-toggleable__label {cursor: pointer;display: block;width: 100%;margin-bottom: 0;padding: 0.3em;box-sizing: border-box;text-align: center;}#sk-container-id-12 label.sk-toggleable__label-arrow:before {content: \"▸\";float: left;margin-right: 0.25em;color: #696969;}#sk-container-id-12 label.sk-toggleable__label-arrow:hover:before {color: black;}#sk-container-id-12 div.sk-estimator:hover label.sk-toggleable__label-arrow:before {color: black;}#sk-container-id-12 div.sk-toggleable__content {max-height: 0;max-width: 0;overflow: hidden;text-align: left;background-color: #f0f8ff;}#sk-container-id-12 div.sk-toggleable__content pre {margin: 0.2em;color: black;border-radius: 0.25em;background-color: #f0f8ff;}#sk-container-id-12 input.sk-toggleable__control:checked~div.sk-toggleable__content {max-height: 200px;max-width: 100%;overflow: auto;}#sk-container-id-12 input.sk-toggleable__control:checked~label.sk-toggleable__label-arrow:before {content: \"▾\";}#sk-container-id-12 div.sk-estimator input.sk-toggleable__control:checked~label.sk-toggleable__label {background-color: #d4ebff;}#sk-container-id-12 div.sk-label input.sk-toggleable__control:checked~label.sk-toggleable__label {background-color: #d4ebff;}#sk-container-id-12 input.sk-hidden--visually {border: 0;clip: rect(1px 1px 1px 1px);clip: rect(1px, 1px, 1px, 1px);height: 1px;margin: -1px;overflow: hidden;padding: 0;position: absolute;width: 1px;}#sk-container-id-12 div.sk-estimator {font-family: monospace;background-color: #f0f8ff;border: 1px dotted black;border-radius: 0.25em;box-sizing: border-box;margin-bottom: 0.5em;}#sk-container-id-12 div.sk-estimator:hover {background-color: #d4ebff;}#sk-container-id-12 div.sk-parallel-item::after {content: \"\";width: 100%;border-bottom: 1px solid gray;flex-grow: 1;}#sk-container-id-12 div.sk-label:hover label.sk-toggleable__label {background-color: #d4ebff;}#sk-container-id-12 div.sk-serial::before {content: \"\";position: absolute;border-left: 1px solid gray;box-sizing: border-box;top: 0;bottom: 0;left: 50%;z-index: 0;}#sk-container-id-12 div.sk-serial {display: flex;flex-direction: column;align-items: center;background-color: white;padding-right: 0.2em;padding-left: 0.2em;position: relative;}#sk-container-id-12 div.sk-item {position: relative;z-index: 1;}#sk-container-id-12 div.sk-parallel {display: flex;align-items: stretch;justify-content: center;background-color: white;position: relative;}#sk-container-id-12 div.sk-item::before, #sk-container-id-12 div.sk-parallel-item::before {content: \"\";position: absolute;border-left: 1px solid gray;box-sizing: border-box;top: 0;bottom: 0;left: 50%;z-index: -1;}#sk-container-id-12 div.sk-parallel-item {display: flex;flex-direction: column;z-index: 1;position: relative;background-color: white;}#sk-container-id-12 div.sk-parallel-item:first-child::after {align-self: flex-end;width: 50%;}#sk-container-id-12 div.sk-parallel-item:last-child::after {align-self: flex-start;width: 50%;}#sk-container-id-12 div.sk-parallel-item:only-child::after {width: 0;}#sk-container-id-12 div.sk-dashed-wrapped {border: 1px dashed gray;margin: 0 0.4em 0.5em 0.4em;box-sizing: border-box;padding-bottom: 0.4em;background-color: white;}#sk-container-id-12 div.sk-label label {font-family: monospace;font-weight: bold;display: inline-block;line-height: 1.2em;}#sk-container-id-12 div.sk-label-container {text-align: center;}#sk-container-id-12 div.sk-container {/* jupyter's `normalize.less` sets `[hidden] { display: none; }` but bootstrap.min.css set `[hidden] { display: none !important; }` so we also need the `!important` here to be able to override the default hidden behavior on the sphinx rendered scikit-learn.org. See: https://github.com/scikit-learn/scikit-learn/issues/21755 */display: inline-block !important;position: relative;}#sk-container-id-12 div.sk-text-repr-fallback {display: none;}</style><div id=\"sk-container-id-12\" class=\"sk-top-container\"><div class=\"sk-text-repr-fallback\"><pre>KNeighborsRegressor(n_neighbors=10)</pre><b>In a Jupyter environment, please rerun this cell to show the HTML representation or trust the notebook. <br />On GitHub, the HTML representation is unable to render, please try loading this page with nbviewer.org.</b></div><div class=\"sk-container\" hidden><div class=\"sk-item\"><div class=\"sk-estimator sk-toggleable\"><input class=\"sk-toggleable__control sk-hidden--visually\" id=\"sk-estimator-id-12\" type=\"checkbox\" checked><label for=\"sk-estimator-id-12\" class=\"sk-toggleable__label sk-toggleable__label-arrow\">KNeighborsRegressor</label><div class=\"sk-toggleable__content\"><pre>KNeighborsRegressor(n_neighbors=10)</pre></div></div></div></div></div>"
            ],
            "text/plain": [
              "KNeighborsRegressor(n_neighbors=10)"
            ]
          },
          "execution_count": 163,
          "metadata": {},
          "output_type": "execute_result"
        }
      ],
      "source": [
        "# fitting the model\n",
        "knn_model.fit(train_split.loc[:,cols], train_split.loc[:,\"Yield\"])"
      ]
    },
    {
      "cell_type": "markdown",
      "metadata": {
        "id": "s8d7y99EZkE6"
      },
      "source": [
        "#### Predicting on the Test split"
      ]
    },
    {
      "cell_type": "code",
      "execution_count": null,
      "metadata": {
        "id": "MsP8_M7zZkE6",
        "outputId": "d8081ea6-8490-4597-9527-7dbef515429c"
      },
      "outputs": [
        {
          "name": "stdout",
          "output_type": "stream",
          "text": [
            "73.2\n"
          ]
        }
      ],
      "source": [
        "pred4 = knn_model.predict(test_split.loc[:,cols])\n",
        "print(pred4.max())"
      ]
    },
    {
      "cell_type": "code",
      "execution_count": null,
      "metadata": {
        "id": "HG3hRAhWZkE7",
        "outputId": "77c3afba-ef12-4b74-b906-93f788644254"
      },
      "outputs": [
        {
          "name": "stdout",
          "output_type": "stream",
          "text": [
            "[32.24915964 32.61415462 34.72547988 ... 31.0642501  29.90749091\n",
            " 38.5258357 ]\n",
            "51.94590254554389\n"
          ]
        }
      ],
      "source": [
        "regression_model=LinearRegression()\n",
        "regression_model.fit(X=train_split.loc[:,cols],y=train_split.loc[:,'Yield'])\n",
        "pred4 = regression_model.predict(test_split.loc[:,cols])\n",
        "print(pred4)\n",
        "\n",
        "\n",
        "regression_model_Accuracy = regression_model.predict(test_split.loc[:,cols]).max()\n",
        "print(regression_model_Accuracy)\n"
      ]
    },
    {
      "cell_type": "code",
      "execution_count": null,
      "metadata": {
        "id": "18yLV3V0ZkE8"
      },
      "outputs": [],
      "source": [
        "##########"
      ]
    },
    {
      "cell_type": "markdown",
      "metadata": {
        "id": "BaKvAilXZkE8"
      },
      "source": [
        "--------------------------------------------------------------"
      ]
    }
  ],
  "metadata": {
    "anaconda-cloud": {},
    "kernelspec": {
      "display_name": "Python 3 (ipykernel)",
      "language": "python",
      "name": "python3"
    },
    "language_info": {
      "codemirror_mode": {
        "name": "ipython",
        "version": 3
      },
      "file_extension": ".py",
      "mimetype": "text/x-python",
      "name": "python",
      "nbconvert_exporter": "python",
      "pygments_lexer": "ipython3",
      "version": "3.9.13"
    },
    "colab": {
      "provenance": [],
      "include_colab_link": true
    }
  },
  "nbformat": 4,
  "nbformat_minor": 0
}